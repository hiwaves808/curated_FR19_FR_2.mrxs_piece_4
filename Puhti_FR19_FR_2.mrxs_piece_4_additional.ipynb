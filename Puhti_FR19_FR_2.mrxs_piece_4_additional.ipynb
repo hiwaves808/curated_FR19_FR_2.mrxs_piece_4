{
 "cells": [
  {
   "cell_type": "code",
   "execution_count": null,
   "metadata": {},
   "outputs": [],
   "source": [
    "from PIL import Image\n",
    "import os, sys\n",
    "import numpy as np\n",
    "from PIL import Image, ImageDraw\n",
    "from PIL import ImageOps\n",
    "\n",
    "Image.MAX_IMAGE_PIXELS=None\n",
    "\n",
    "img = Image.open('/scratch/project_2000667/mapcad/turku_images_to_test/FR19/Histological_images/FR19_FR_2.mrxs_piece_4_additional.tif')\n",
    "\n",
    "print(img.size)\n",
    "\n",
    "print(img.format, img.size, img.mode)\n",
    "\n",
    "#adjustments to curate left and right sides of image\n",
    "\n",
    "img = Image.open('/scratch/project_2000667/mapcad/turku_images_to_test/FR19/Histological_images/FR19_FR_2.mrxs_piece_4_additional.tif')\n",
    "\n",
    "cropped_img = img.crop((1300, 500,  6900, 2600))\n",
    "cropped_img.save('/scratch/project_2000667/mapcad/curated_images/curated_FR19_FR_2.mrxs_piece_4_additional.tif')\n",
    "cropped_img.show()\n",
    "\n"
   ]
  }
 ],
 "metadata": {
  "language_info": {
   "name": "python"
  },
  "orig_nbformat": 4
 },
 "nbformat": 4,
 "nbformat_minor": 2
}
