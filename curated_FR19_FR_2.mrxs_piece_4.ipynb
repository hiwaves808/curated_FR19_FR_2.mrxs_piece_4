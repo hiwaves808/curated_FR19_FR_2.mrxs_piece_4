{
 "cells": [
  {
   "cell_type": "code",
   "execution_count": 3,
   "id": "61ab4923",
   "metadata": {},
   "outputs": [],
   "source": [
    "from PIL import Image\n",
    "import os, sys\n",
    "import numpy as np\n",
    "from PIL import Image, ImageDraw\n"
   ]
  },
  {
   "cell_type": "code",
   "execution_count": 4,
   "id": "1ba7749a",
   "metadata": {},
   "outputs": [],
   "source": [
    "img = Image.open('FR19_FR_2.mrxs_piece_4.tif')\n",
    "img.show()"
   ]
  },
  {
   "cell_type": "code",
   "execution_count": 5,
   "id": "331541af",
   "metadata": {},
   "outputs": [
    {
     "name": "stdout",
     "output_type": "stream",
     "text": [
      "(78, 27)\n"
     ]
    }
   ],
   "source": [
    "print(img.size)"
   ]
  },
  {
   "cell_type": "code",
   "execution_count": 6,
   "id": "3b42bdc6",
   "metadata": {},
   "outputs": [
    {
     "name": "stdout",
     "output_type": "stream",
     "text": [
      "TIFF (78, 27) RGB\n"
     ]
    }
   ],
   "source": [
    "print(img.format, img.size, img.mode)"
   ]
  },
  {
   "cell_type": "code",
   "execution_count": 8,
   "id": "d14ba4e9",
   "metadata": {},
   "outputs": [],
   "source": [
    "# Importing ImageDraw for\n",
    "# using floodfill function\n",
    "from PIL import Image, ImageDraw\n",
    "\n",
    "  \n",
    "# Location of seed\n",
    "seed = (0, 0)\n",
    "  \n",
    "# Pixel Value which would\n",
    "# be used for replacement\n",
    "rep_value = (255, 255, 255, 255)\n",
    "  \n",
    "# Calling the floodfill() function and\n",
    "# passing it image, seed, value and\n",
    "# thresh as arguments\n",
    "ImageDraw.floodfill(img, seed, rep_value, thresh = 100)\n",
    "  \n",
    "img.show()\n",
    "with Image.open('FR19_FR_2.mrxs_piece_4.tif') as image:\n",
    "    width, height = image.size\n",
    "def main():\n",
    "    try:\n",
    "        #Relative Path\n",
    "        img = Image.open('FR19_FR_2.mrxs_piece_4.tif')\n",
    "        width, height = img.size\n",
    "          \n",
    "        area = (0, 0, width/2, height/1)\n",
    "        img = img.crop(area)\n",
    "          \n",
    "        #Saved in the same relative location\n",
    "        img.save('curated_FR19_FR_2.mrxs_piece_4.tif') \n",
    "          \n",
    "    except IOError:\n",
    "        pass\n",
    "  \n",
    "if __name__ == \"__main__\":\n",
    "    main()\n",
    "image = Image.open('curated_FR19_FR_2.mrxs_piece_4.tif')\n",
    "image.show()"
   ]
  },
  {
   "cell_type": "code",
   "execution_count": null,
   "id": "ba47c826",
   "metadata": {},
   "outputs": [],
   "source": []
  }
 ],
 "metadata": {
  "kernelspec": {
   "display_name": "Python 3 (ipykernel)",
   "language": "python",
   "name": "python3"
  },
  "language_info": {
   "codemirror_mode": {
    "name": "ipython",
    "version": 3
   },
   "file_extension": ".py",
   "mimetype": "text/x-python",
   "name": "python",
   "nbconvert_exporter": "python",
   "pygments_lexer": "ipython3",
   "version": "3.10.4"
  }
 },
 "nbformat": 4,
 "nbformat_minor": 5
}
